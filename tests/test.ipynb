{
 "cells": [
  {
   "cell_type": "code",
   "execution_count": 15,
   "metadata": {},
   "outputs": [],
   "source": [
    "a = {'a': 1, 'b': 2, 'c': 3}\n",
    "b = {'d': 4}"
   ]
  },
  {
   "cell_type": "code",
   "execution_count": 16,
   "metadata": {},
   "outputs": [],
   "source": [
    "c = a | b"
   ]
  },
  {
   "cell_type": "code",
   "execution_count": 17,
   "metadata": {},
   "outputs": [
    {
     "data": {
      "text/plain": [
       "{'a': 1, 'b': 2, 'c': 3, 'd': 4}"
      ]
     },
     "execution_count": 17,
     "metadata": {},
     "output_type": "execute_result"
    }
   ],
   "source": [
    "c"
   ]
  },
  {
   "cell_type": "code",
   "execution_count": 18,
   "metadata": {},
   "outputs": [],
   "source": [
    "import pandas as pd"
   ]
  },
  {
   "cell_type": "code",
   "execution_count": 26,
   "metadata": {},
   "outputs": [],
   "source": [
    "df = pd.DataFrame(columns=['d', 'r', 'p', 'shots', 'errors'])"
   ]
  },
  {
   "cell_type": "code",
   "execution_count": 15,
   "metadata": {},
   "outputs": [],
   "source": [
    "import numpy as np\n",
    "import scipy\n",
    "import sinter\n",
    "from scipy.stats import norm\n",
    "\n",
    "def calc_per_round_ci(errors: int, shots: int, rounds: int, confidence: float = 0.95):\n",
    "    per_shot = errors / shots\n",
    "    per_round = calc_per_round(per_shot, rounds)\n",
    "    \n",
    "    # Standard error of the mean\n",
    "    se_per_shot = np.sqrt(per_shot * (1 - per_shot) / shots)\n",
    "    \n",
    "    # Z-score for 95% confidence interval\n",
    "    z_score = norm.ppf(0.975)  # 1.96\n",
    "    \n",
    "    # Calculate the upper and lower bounds of the per-shot error rate\n",
    "    me_per_shot = z_score * se_per_shot\n",
    "    per_shot_lower = per_shot - me_per_shot\n",
    "    per_shot_upper = per_shot + me_per_shot\n",
    "        \n",
    "    # Calculate the confidence interval\n",
    "    per_round_lower = 0.5 * (1 - (1 - 2 * per_shot_lower) ** (1 / rounds))\n",
    "    per_round_upper = 0.5 * (1 - (1 - 2 * per_shot_upper) ** (1 / rounds))\n",
    "    \n",
    "    return per_round, per_round_lower, per_round_upper\n",
    "\n",
    "def calc_per_round(per_shot: float, rounds: int):\n",
    "    \n",
    "    if per_shot >= 0.5:\n",
    "         per_shot = 1 - per_shot\n",
    "        \n",
    "    return 0.5 * (1 - (1 - 2 * per_shot) ** (1/rounds))"
   ]
  },
  {
   "cell_type": "code",
   "execution_count": 35,
   "metadata": {},
   "outputs": [
    {
     "data": {
      "text/plain": [
       "1.0000002881316306e-08"
      ]
     },
     "execution_count": 35,
     "metadata": {},
     "output_type": "execute_result"
    }
   ],
   "source": [
    "calc_per_round(3/1e7, 30)"
   ]
  },
  {
   "cell_type": "code",
   "execution_count": null,
   "metadata": {},
   "outputs": [],
   "source": []
  },
  {
   "cell_type": "code",
   "execution_count": 28,
   "metadata": {},
   "outputs": [
    {
     "name": "stdout",
     "output_type": "stream",
     "text": [
      "-3573.680601018173 3583.107442451731\n",
      "-2527.4481223488956 2533.1615389078906\n",
      "-2063.7469349263 2068.2225450348933\n",
      "-1787.2666972595935 1791.1234044954815\n",
      "-1598.5619038169996 1602.0472694469481\n",
      "-1459.2525615377433 1462.4903661396243\n",
      "-1350.9736297183126 1354.034605025533\n",
      "-1263.6875456721334 1266.6158990319507\n",
      "-1191.3838571298365 1194.209060092286\n"
     ]
    }
   ],
   "source": [
    "for i in np.arange(1, 10):\n",
    "    n_shots = i*1e10\n",
    "    p = 3/1e7\n",
    "    errors = p * i\n",
    "    per_round, l, u = calc_per_round_ci(errors=errors, shots=i, rounds=30)\n",
    "    print(l/per_round, u/per_round)"
   ]
  },
  {
   "cell_type": "code",
   "execution_count": 6,
   "metadata": {},
   "outputs": [
    {
     "name": "stdout",
     "output_type": "stream",
     "text": [
      "Help on function calc_per_round in module __main__:\n",
      "\n",
      "calc_per_round(per_shot: float, rounds: int)\n",
      "\n"
     ]
    }
   ],
   "source": [
    "help(calc_per_round)"
   ]
  },
  {
   "cell_type": "code",
   "execution_count": 39,
   "metadata": {},
   "outputs": [
    {
     "data": {
      "text/plain": [
       "[]"
      ]
     },
     "execution_count": 39,
     "metadata": {},
     "output_type": "execute_result"
    },
    {
     "data": {
      "image/png": "[encoded data removed]",
      "text/plain": [
       "<Figure size 640x480 with 1 Axes>"
      ]
     },
     "metadata": {},
     "output_type": "display_data"
    }
   ],
   "source": [
    "xvals = np.arange(1, 17)\n",
    "yvals = 1/np.power(2, xvals)\n",
    "yerror = 0.5 * yvals\n",
    "\n",
    "import matplotlib.pyplot as plt\n",
    "plt.errorbar(xvals, yvals, yerr=yerror, fmt='o')\n",
    "\n",
    "plt.semilogy()"
   ]
  },
  {
   "cell_type": "code",
   "execution_count": 1,
   "metadata": {},
   "outputs": [
    {
     "name": "stdout",
     "output_type": "stream",
     "text": [
      "6.0\n",
      "6.0\n",
      "6.0\n",
      "6.0\n",
      "24\n"
     ]
    }
   ],
   "source": [
    "import stim\n",
    "\n",
    "scl_noise = []\n",
    "\n",
    "d = 3\n",
    "r = d*2\n",
    "scl_kwargs = {k: p for k in scl_noise}\n",
    "\n",
    "circuit = stim.Circuit.generated(\"surface_code:rotated_memory_z\", rounds=r, distance=d, **scl_kwargs)\n",
    "\n",
    "for instr in circuit[::-1]:\n",
    "    if isinstance(instr, stim.CircuitRepeatBlock):\n",
    "        block = instr.body_copy()\n",
    "        break\n",
    "    \n",
    "for instr in block:\n",
    "    if instr.name == \"CX\":\n",
    "        pairs = len(instr.targets_copy())\n",
    "        print(pairs / 2)\n",
    "        \n",
    "        \n",
    "print(pairs * 2)"
   ]
  },
  {
   "cell_type": "code",
   "execution_count": null,
   "metadata": {},
   "outputs": [],
   "source": [
    "circuit.diagram(\"timeline-svg\")"
   ]
  },
  {
   "cell_type": "code",
   "execution_count": 4,
   "metadata": {},
   "outputs": [
    {
     "data": {
      "text/plain": [
       "stim.Circuit('''\n",
       "    TICK\n",
       "    H 2 11 16 25\n",
       "    TICK\n",
       "    CX 2 3 16 17 11 12 15 14 10 9 19 18\n",
       "    TICK\n",
       "    CX 2 1 16 15 11 10 8 14 3 9 12 18\n",
       "    TICK\n",
       "    CX 16 10 11 5 25 19 8 9 17 18 12 13\n",
       "    TICK\n",
       "    CX 16 8 11 3 25 17 1 9 10 18 5 13\n",
       "    TICK\n",
       "    H 2 11 16 25\n",
       "    TICK\n",
       "    MR 2 9 11 13 14 16 18 25\n",
       "    SHIFT_COORDS(0, 0, 1)\n",
       "    DETECTOR(2, 0, 0) rec[-8] rec[-16]\n",
       "    DETECTOR(2, 2, 0) rec[-7] rec[-15]\n",
       "    DETECTOR(4, 2, 0) rec[-6] rec[-14]\n",
       "    DETECTOR(6, 2, 0) rec[-5] rec[-13]\n",
       "    DETECTOR(0, 4, 0) rec[-4] rec[-12]\n",
       "    DETECTOR(2, 4, 0) rec[-3] rec[-11]\n",
       "    DETECTOR(4, 4, 0) rec[-2] rec[-10]\n",
       "    DETECTOR(4, 6, 0) rec[-1] rec[-9]\n",
       "''')"
      ]
     },
     "execution_count": 4,
     "metadata": {},
     "output_type": "execute_result"
    }
   ],
   "source": [
    "from src.noisemodel import split_circuit_cx_m\n"
   ]
  },
  {
   "cell_type": "code",
   "execution_count": 18,
   "metadata": {},
   "outputs": [
    {
     "ename": "ModuleNotFoundError",
     "evalue": "No module named 'src'",
     "output_type": "error",
     "traceback": [
      "\u001b[0;31m---------------------------------------------------------------------------\u001b[0m",
      "\u001b[0;31mModuleNotFoundError\u001b[0m                       Traceback (most recent call last)",
      "Cell \u001b[0;32mIn[18], line 1\u001b[0m\n\u001b[0;32m----> 1\u001b[0m \u001b[38;5;28;01mfrom\u001b[39;00m \u001b[38;5;21;01msrc\u001b[39;00m\u001b[38;5;21;01m.\u001b[39;00m\u001b[38;5;21;01mnoisemodel\u001b[39;00m \u001b[38;5;28;01mimport\u001b[39;00m split_circuit\n",
      "\u001b[0;31mModuleNotFoundError\u001b[0m: No module named 'src'"
     ]
    }
   ],
   "source": [
    "from src.noisemodel import split_circuit"
   ]
  },
  {
   "cell_type": "code",
   "execution_count": 19,
   "metadata": {},
   "outputs": [
    {
     "ename": "SyntaxError",
     "evalue": "invalid syntax (2026637863.py, line 1)",
     "output_type": "error",
     "traceback": [
      "\u001b[0;36m  Cell \u001b[0;32mIn[19], line 1\u001b[0;36m\u001b[0m\n\u001b[0;31m    (circuit_init, circuit_init_round, circuit_repeat_block, circuit_final), repeat_count =\u001b[0m\n\u001b[0m                                                                                            ^\u001b[0m\n\u001b[0;31mSyntaxError\u001b[0m\u001b[0;31m:\u001b[0m invalid syntax\n"
     ]
    }
   ],
   "source": [
    "(circuit_init, circuit_init_round, circuit_repeat_block, circuit_final), repeat_count = split_circuit(circuit)"
   ]
  },
  {
   "cell_type": "code",
   "execution_count": 1,
   "metadata": {},
   "outputs": [],
   "source": [
    "import numpy as np"
   ]
  },
  {
   "cell_type": "code",
   "execution_count": 274,
   "metadata": {},
   "outputs": [
    {
     "name": "stdout",
     "output_type": "stream",
     "text": [
      "\\node[circle, inner sep=.8pt, draw=black, fill=red] (x0a) at (0.6, 1.2, 0.0) {};\n",
      "\\node[circle, inner sep=.8pt, draw=black, fill=red] (x0b) at (0.6, 1.3, 0.0) {};\n",
      "\\draw(x0a)--(x0b);\n",
      "\\node[circle, inner sep=.8pt, draw=black, fill=red] (x1a) at (0.6, 1.2, 0.8) {};\n",
      "\\node[circle, inner sep=.8pt, draw=black, fill=red] (x1b) at (0.6, 1.3, 0.8) {};\n",
      "\\draw(x1a)--(x1b);\n",
      "\\node[circle, inner sep=.8pt, draw=black, fill=red] (x2a) at (0.0, 1.2, 0.6) {};\n",
      "\\node[circle, inner sep=.8pt, draw=black, fill=red] (x2b) at (0.0, 1.3, 0.6) {};\n",
      "\\draw(x2a)--(x2b);\n",
      "\\node[circle, inner sep=.8pt, draw=black, fill=red] (x3a) at (0.4, 0.0, 0.8) {};\n",
      "\\node[circle, inner sep=.8pt, draw=black, fill=red] (x3b) at (0.4, 0.1, 0.8) {};\n",
      "\\draw(x3a)--(x3b);\n",
      "\\node[circle, inner sep=.8pt, draw=black, fill=red] (x4a) at (0.0, 1.2, 0.4) {};\n",
      "\\node[circle, inner sep=.8pt, draw=black, fill=red] (x4b) at (0.0, 1.3, 0.4) {};\n",
      "\\draw(x4a)--(x4b);\n",
      "\\node[circle, inner sep=.8pt, draw=black, fill=red] (x5a) at (0.6, 1.6, 0.0) {};\n",
      "\\node[circle, inner sep=.8pt, draw=black, fill=red] (x5b) at (0.6, 1.7, 0.0) {};\n",
      "\\draw(x5a)--(x5b);\n",
      "\\node[circle, inner sep=.8pt, draw=black, fill=red] (x6a) at (0.2, 1.2, 0.4) {};\n",
      "\\node[circle, inner sep=.8pt, draw=black, fill=red] (x6b) at (0.2, 1.3, 0.4) {};\n",
      "\\draw(x6a)--(x6b);\n",
      "\\node[circle, inner sep=.8pt, draw=black, fill=red] (x7a) at (0.0, 0.8, 0.8) {};\n",
      "\\node[circle, inner sep=.8pt, draw=black, fill=red] (x7b) at (0.0, 0.9, 0.8) {};\n",
      "\\draw(x7a)--(x7b);\n",
      "\\node[circle, inner sep=.8pt, draw=black, fill=red] (x8a) at (0.2, 0.8, 0.6) {};\n",
      "\\node[circle, inner sep=.8pt, draw=black, fill=red] (x8b) at (0.2, 0.9, 0.6) {};\n",
      "\\draw(x8a)--(x8b);\n",
      "\\node[circle, inner sep=.8pt, draw=black, fill=red] (x9a) at (0.6, 1.6, 0.8) {};\n",
      "\\node[circle, inner sep=.8pt, draw=black, fill=red] (x9b) at (0.6, 1.7, 0.8) {};\n",
      "\\draw(x9a)--(x9b);\n",
      "\\node[circle, inner sep=.8pt, draw=black, fill=red] (x10a) at (0.4, 0.8, 0.0) {};\n",
      "\\node[circle, inner sep=.8pt, draw=black, fill=red] (x10b) at (0.4, 0.9, 0.0) {};\n",
      "\\draw(x10a)--(x10b);\n",
      "\\node[circle, inner sep=.8pt, draw=black, fill=red] (x11a) at (0.8, 0.8, 0.6) {};\n",
      "\\node[circle, inner sep=.8pt, draw=black, fill=red] (x11b) at (0.8, 0.9, 0.6) {};\n",
      "\\draw(x11a)--(x11b);\n",
      "\\node[circle, inner sep=.8pt, draw=black, fill=red] (x12a) at (0.8, 0.0, 0.2) {};\n",
      "\\node[circle, inner sep=.8pt, draw=black, fill=red] (x12b) at (0.8, 0.1, 0.2) {};\n",
      "\\draw(x12a)--(x12b);\n",
      "\\node[circle, inner sep=.8pt, draw=black, fill=red] (x13a) at (0.6, 0.4, 0.4) {};\n",
      "\\node[circle, inner sep=.8pt, draw=black, fill=red] (x13b) at (0.6, 0.5, 0.4) {};\n",
      "\\draw(x13a)--(x13b);\n",
      "\\node[circle, inner sep=.8pt, draw=black, fill=red] (x14a) at (0.2, 0.4, 0.8) {};\n",
      "\\node[circle, inner sep=.8pt, draw=black, fill=red] (x14b) at (0.2, 0.5, 0.8) {};\n",
      "\\draw(x14a)--(x14b);\n",
      "\\node[circle, inner sep=.8pt, draw=black, fill=red] (x15a) at (0.8, 0.8, 0.4) {};\n",
      "\\node[circle, inner sep=.8pt, draw=black, fill=red] (x15b) at (0.8, 0.9, 0.4) {};\n",
      "\\draw(x15a)--(x15b);\n",
      "\\node[circle, inner sep=.8pt, draw=black, fill=red] (x16a) at (0.0, 0.0, 0.6) {};\n",
      "\\node[circle, inner sep=.8pt, draw=black, fill=red] (x16b) at (0.0, 0.1, 0.6) {};\n",
      "\\draw(x16a)--(x16b);\n",
      "\\node[circle, inner sep=.8pt, draw=black, fill=red] (x17a) at (0.2, 1.2, 0.0) {};\n",
      "\\node[circle, inner sep=.8pt, draw=black, fill=red] (x17b) at (0.2, 1.3, 0.0) {};\n",
      "\\draw(x17a)--(x17b);\n",
      "\\node[circle, inner sep=.8pt, draw=black, fill=red] (x18a) at (0.6, 0.0, 0.0) {};\n",
      "\\node[circle, inner sep=.8pt, draw=black, fill=red] (x18b) at (0.6, 0.1, 0.0) {};\n",
      "\\draw(x18a)--(x18b);\n",
      "\\node[circle, inner sep=.8pt, draw=black, fill=red] (x19a) at (0.0, 0.0, 0.0) {};\n",
      "\\node[circle, inner sep=.8pt, draw=black, fill=red] (x19b) at (0.0, 0.1, 0.0) {};\n",
      "\\draw(x19a)--(x19b);\n",
      "\\node[circle, inner sep=.8pt, draw=black, fill=red] (x20a) at (0.6, 0.8, 0.8) {};\n",
      "\\node[circle, inner sep=.8pt, draw=black, fill=red] (x20b) at (0.6, 0.9, 0.8) {};\n",
      "\\draw(x20a)--(x20b);\n",
      "\\node[circle, inner sep=.8pt, draw=black, fill=red] (x21a) at (0.6, 1.6, 0.4) {};\n",
      "\\node[circle, inner sep=.8pt, draw=black, fill=red] (x21b) at (0.6, 1.7, 0.4) {};\n",
      "\\draw(x21a)--(x21b);\n",
      "\\node[circle, inner sep=.8pt, draw=black, fill=red] (x22a) at (0.2, 0.0, 0.6) {};\n",
      "\\node[circle, inner sep=.8pt, draw=black, fill=red] (x22b) at (0.2, 0.1, 0.6) {};\n",
      "\\draw(x22a)--(x22b);\n",
      "\\node[circle, inner sep=.8pt, draw=black, fill=red] (x23a) at (0.2, 0.4, 0.0) {};\n",
      "\\node[circle, inner sep=.8pt, draw=black, fill=red] (x23b) at (0.2, 0.5, 0.0) {};\n",
      "\\draw(x23a)--(x23b);\n",
      "\\node[circle, inner sep=.8pt, draw=black, fill=red] (x24a) at (0.6, 0.0, 0.2) {};\n",
      "\\node[circle, inner sep=.8pt, draw=black, fill=red] (x24b) at (0.6, 0.1, 0.2) {};\n",
      "\\draw(x24a)--(x24b);\n",
      "\\node[circle, inner sep=.8pt, draw=black, fill=red] (x25a) at (0.4, 0.0, 0.4) {};\n",
      "\\node[circle, inner sep=.8pt, draw=black, fill=red] (x25b) at (0.4, 0.1, 0.4) {};\n",
      "\\draw(x25a)--(x25b);\n",
      "\\node[circle, inner sep=.8pt, draw=black, fill=red] (x26a) at (0.2, 1.6, 0.2) {};\n",
      "\\node[circle, inner sep=.8pt, draw=black, fill=red] (x26b) at (0.2, 1.7, 0.2) {};\n",
      "\\draw(x26a)--(x26b);\n",
      "\\node[circle, inner sep=.8pt, draw=black, fill=red] (x27a) at (0.6, 1.6, 0.2) {};\n",
      "\\node[circle, inner sep=.8pt, draw=black, fill=red] (x27b) at (0.6, 1.7, 0.2) {};\n",
      "\\draw(x27a)--(x27b);\n",
      "\\node[circle, inner sep=.8pt, draw=black, fill=red] (x28a) at (0.8, 0.0, 0.6) {};\n",
      "\\node[circle, inner sep=.8pt, draw=black, fill=red] (x28b) at (0.8, 0.1, 0.6) {};\n",
      "\\draw(x28a)--(x28b);\n",
      "\\node[circle, inner sep=.8pt, draw=black, fill=red] (x29a) at (0.0, 1.6, 0.8) {};\n",
      "\\node[circle, inner sep=.8pt, draw=black, fill=red] (x29b) at (0.0, 1.7, 0.8) {};\n",
      "\\draw(x29a)--(x29b);\n"
     ]
    }
   ],
   "source": [
    "n = 30\n",
    "\n",
    "X = np.arange(0, 10, 2)\n",
    "Y = np.arange(0, 10, 2)\n",
    "Z = np.arange(0, 20, 4)\n",
    "\n",
    "coordinates = []\n",
    "for i in range(n):\n",
    "    x = np.random.choice(X)\n",
    "    y = np.random.choice(Y)\n",
    "    z = np.random.choice(Z)\n",
    "    while (x, y, z) in coordinates:\n",
    "        # print('collision')\n",
    "        x = np.random.choice(X)\n",
    "        y = np.random.choice(Y)\n",
    "        z = np.random.choice(Z)\n",
    "    else:\n",
    "        coordinates.append((x, y, z))\n",
    "    x /= 10\n",
    "    y /= 10\n",
    "    z /= 10\n",
    "    print('\\\\'+f\"node[circle, inner sep=.8pt, draw=black, fill=red] (x{i}a) at ({x}, {z}, {y})\" + ' {};')\n",
    "    print('\\\\'+f\"node[circle, inner sep=.8pt, draw=black, fill=red] (x{i}b) at ({x}, {z+.1:.1f}, {y})\" + ' {};')\n",
    "    print('\\\\'+f'draw(x{i}a)--(x{i}b);')"
   ]
  },
  {
   "cell_type": "code",
   "execution_count": 315,
   "metadata": {},
   "outputs": [
    {
     "name": "stdout",
     "output_type": "stream",
     "text": [
      "\\node[circle, inner sep=.8pt, draw=black, fill=red] (x0a) at (0.8, 0.0, 0.6) {};\n",
      "\\node[circle, inner sep=.8pt, draw=black, fill=red] (x0b) at (0.8, 0.6, 0.6) {};\n",
      "\\draw(x0a)--(x0b);\n",
      "\\node[circle, inner sep=.8pt, draw=black, fill=red] (x1a) at (0.8, 1.2, 0.2) {};\n",
      "\\node[circle, inner sep=.8pt, draw=black, fill=red] (x1b) at (0.8, 1.9, 0.2) {};\n",
      "\\draw(x1a)--(x1b);\n",
      "\\node[circle, inner sep=.8pt, draw=black, fill=red] (x2a) at (0.2, 0.4, 0.4) {};\n",
      "\\node[circle, inner sep=.8pt, draw=black, fill=red] (x2b) at (0.2, 0.6, 0.4) {};\n",
      "\\draw(x2a)--(x2b);\n",
      "\\node[circle, inner sep=.8pt, draw=black, fill=red] (x3a) at (0.2, 0.8, 0.4) {};\n",
      "\\node[circle, inner sep=.8pt, draw=black, fill=red] (x3b) at (0.2, 1.1, 0.4) {};\n",
      "\\draw(x3a)--(x3b);\n",
      "\\node[circle, inner sep=.8pt, draw=black, fill=red] (x4a) at (0.8, 1.2, 0.6) {};\n",
      "\\node[circle, inner sep=.8pt, draw=black, fill=red] (x4b) at (0.8, 1.4, 0.6) {};\n",
      "\\draw(x4a)--(x4b);\n",
      "\\node[circle, inner sep=.8pt, draw=black, fill=red] (x5a) at (0.2, 0.0, 0.6) {};\n",
      "\\node[circle, inner sep=.8pt, draw=black, fill=red] (x5b) at (0.2, 0.3, 0.6) {};\n",
      "\\draw(x5a)--(x5b);\n",
      "\\node[circle, inner sep=.8pt, draw=black, fill=red] (x6a) at (0.6, 0.8, 0.2) {};\n",
      "\\node[circle, inner sep=.8pt, draw=black, fill=red] (x6b) at (0.6, 1.0, 0.2) {};\n",
      "\\draw(x6a)--(x6b);\n",
      "\\node[circle, inner sep=.8pt, draw=black, fill=red] (x7a) at (0.0, 1.2, 0.2) {};\n",
      "\\node[circle, inner sep=.8pt, draw=black, fill=red] (x7b) at (0.0, 1.5, 0.2) {};\n",
      "\\draw(x7a)--(x7b);\n",
      "\\node[circle, inner sep=.8pt, draw=black, fill=red] (x8a) at (0.2, 0.0, 0.0) {};\n",
      "\\node[circle, inner sep=.8pt, draw=black, fill=red] (x8b) at (0.2, 0.4, 0.0) {};\n",
      "\\draw(x8a)--(x8b);\n",
      "\\node[circle, inner sep=.8pt, draw=black, fill=red] (x9a) at (0.2, 1.2, 0.0) {};\n",
      "\\node[circle, inner sep=.8pt, draw=black, fill=red] (x9b) at (0.2, 1.5, 0.0) {};\n",
      "\\draw(x9a)--(x9b);\n",
      "\\node[circle, inner sep=.8pt, draw=black, fill=red] (x10a) at (0.6, 0.0, 0.0) {};\n",
      "\\node[circle, inner sep=.8pt, draw=black, fill=red] (x10b) at (0.6, 0.2, 0.0) {};\n",
      "\\draw(x10a)--(x10b);\n",
      "\\node[circle, inner sep=.8pt, draw=black, fill=red] (x11a) at (0.6, 0.8, 0.6) {};\n",
      "\\node[circle, inner sep=.8pt, draw=black, fill=red] (x11b) at (0.6, 1.0, 0.6) {};\n",
      "\\draw(x11a)--(x11b);\n",
      "\\node[circle, inner sep=.8pt, draw=black, fill=red] (x12a) at (0.0, 0.0, 0.6) {};\n",
      "\\node[circle, inner sep=.8pt, draw=black, fill=red] (x12b) at (0.0, 0.4, 0.6) {};\n",
      "\\draw(x12a)--(x12b);\n"
     ]
    }
   ],
   "source": [
    "W = n + 10\n",
    "m = 10\n",
    "\n",
    "a = list(range(2, m+2))\n",
    "p = np.array([1/(i**2) for i in a])\n",
    "p = p / np.linalg.norm(p, ord=1)\n",
    "\n",
    "coordinates = []\n",
    "i = 0\n",
    "while W > 0:\n",
    "    i\n",
    "    x = np.random.choice(X)\n",
    "    y = np.random.choice(Y)\n",
    "    z = np.random.choice(Z)\n",
    "    while (x, y, z) in coordinates:\n",
    "        x = np.random.choice(X)\n",
    "        y = np.random.choice(Y)\n",
    "        z = np.random.choice(Z)\n",
    "    else:\n",
    "        coordinates.append((x, y, z))\n",
    "    x /= 10\n",
    "    y /= 10\n",
    "    z /= 10\n",
    "    w = np.random.choice(a, p=p)\n",
    "    W -= w\n",
    "    print('\\\\'+f\"node[circle, inner sep=.8pt, draw=black, fill=red] (x{i}a) at ({x}, {z}, {y})\" + ' {};')\n",
    "    print('\\\\'+f\"node[circle, inner sep=.8pt, draw=black, fill=red] (x{i}b) at ({x}, {z+(.1 * w):.1f}, {y})\" + ' {};')\n",
    "    print('\\\\'+f'draw(x{i}a)--(x{i}b);')\n",
    "    i += 1"
   ]
  },
  {
   "cell_type": "code",
   "execution_count": 290,
   "metadata": {},
   "outputs": [
    {
     "data": {
      "text/plain": [
       "array([0, 1, 1, 0, 0, 0, 1, 1, 0, 0])"
      ]
     },
     "execution_count": 290,
     "metadata": {},
     "output_type": "execute_result"
    }
   ],
   "source": [
    "np.random.binomial(1, 0.5, 10)"
   ]
  }
 ],
 "metadata": {
  "kernelspec": {
   "display_name": "qec",
   "language": "python",
   "name": "python3"
  },
  "language_info": {
   "codemirror_mode": {
    "name": "ipython",
    "version": 3
   },
   "file_extension": ".py",
   "mimetype": "text/x-python",
   "name": "python",
   "nbconvert_exporter": "python",
   "pygments_lexer": "ipython3",
   "version": "3.11.7"
  }
 },
 "nbformat": 4,
 "nbformat_minor": 2
}
